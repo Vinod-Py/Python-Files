{
 "cells": [
  {
   "cell_type": "code",
   "execution_count": null,
   "metadata": {},
   "outputs": [],
   "source": [
    "#Introduction to dictionary datatype:\n",
    "#Definition: dictionary is a collection of key-value pairs.\n",
    "#dict is a mutable datatype and is defined with--->{   } flower brackets.\n",
    "#dictionary datatype will be acting as real world objects.***\n",
    "Requirement: Creating a facebook/github account\n",
    "    Facebook:\n",
    "        first_name:Code   |Key-Value\n",
    "        last_name:Training   |Key-Value\n",
    "        DOB:01-01-2019   |Key-Value\n",
    "        user_name:CodeTraining01   |Key-Value\n",
    "        password:12345   |Key-Value\n",
    "\n",
    "    Github:\n",
    "        first_name:Code   |Key-Value\n",
    "        last_name:Training   |Key-Value\n",
    "        user_name:CodeTraining01   |Key-Value\n",
    "        password:12345   |Key-Value"
   ]
  },
  {
   "cell_type": "code",
   "execution_count": 4,
   "metadata": {},
   "outputs": [
    {
     "name": "stdout",
     "output_type": "stream",
     "text": [
      "{'color': 'green', 'points': 5}\n"
     ]
    },
    {
     "data": {
      "text/plain": [
       "dict"
      ]
     },
     "execution_count": 4,
     "metadata": {},
     "output_type": "execute_result"
    }
   ],
   "source": [
    "#Creating a dictionary\n",
    "#Requirement----->design an alien game.\n",
    "#Alien --->kill--->5points.\n",
    "alien={'color':'green','points':5}\n",
    "print(alien)\n",
    "type(alien)"
   ]
  },
  {
   "cell_type": "code",
   "execution_count": 8,
   "metadata": {},
   "outputs": [
    {
     "name": "stdout",
     "output_type": "stream",
     "text": [
      "green\n",
      "5\n"
     ]
    },
    {
     "ename": "KeyError",
     "evalue": "'green'",
     "output_type": "error",
     "traceback": [
      "\u001b[1;31m---------------------------------------------------------------------------\u001b[0m",
      "\u001b[1;31mKeyError\u001b[0m                                  Traceback (most recent call last)",
      "\u001b[1;32m<ipython-input-8-e056193750db>\u001b[0m in \u001b[0;36m<module>\u001b[1;34m\u001b[0m\n\u001b[0;32m      2\u001b[0m \u001b[0mprint\u001b[0m\u001b[1;33m(\u001b[0m\u001b[0malien\u001b[0m\u001b[1;33m[\u001b[0m\u001b[1;34m'color'\u001b[0m\u001b[1;33m]\u001b[0m\u001b[1;33m)\u001b[0m \u001b[1;31m#keys--->we are using to access the values...!\u001b[0m\u001b[1;33m\u001b[0m\u001b[1;33m\u001b[0m\u001b[0m\n\u001b[0;32m      3\u001b[0m \u001b[0mprint\u001b[0m\u001b[1;33m(\u001b[0m\u001b[0malien\u001b[0m\u001b[1;33m[\u001b[0m\u001b[1;34m'points'\u001b[0m\u001b[1;33m]\u001b[0m\u001b[1;33m)\u001b[0m\u001b[1;33m\u001b[0m\u001b[1;33m\u001b[0m\u001b[0m\n\u001b[1;32m----> 4\u001b[1;33m \u001b[0mprint\u001b[0m\u001b[1;33m(\u001b[0m\u001b[0malien\u001b[0m\u001b[1;33m[\u001b[0m\u001b[1;34m'green'\u001b[0m\u001b[1;33m]\u001b[0m\u001b[1;33m)\u001b[0m\u001b[1;33m\u001b[0m\u001b[1;33m\u001b[0m\u001b[0m\n\u001b[0m",
      "\u001b[1;31mKeyError\u001b[0m: 'green'"
     ]
    }
   ],
   "source": [
    "#How to access the value from a dict***\n",
    "print(alien['color']) #keys--->we are using to access the values...!\n",
    "print(alien['points'])\n",
    "print(alien['green']) #otherway throws an error, so shouldn't be used."
   ]
  },
  {
   "cell_type": "code",
   "execution_count": 10,
   "metadata": {},
   "outputs": [
    {
     "name": "stdout",
     "output_type": "stream",
     "text": [
      "{'first_name': 'Code', 'last_name': 'Training', 'DOB': '01-01-2019', 'user_name': 'CodeTraining01', 'password': '12345'}\n",
      "CodeTraining01\n"
     ]
    }
   ],
   "source": [
    "user_account={'first_name':'Code','last_name':'Training','DOB':'01-01-2019','user_name':'CodeTraining01','password':'12345'}\n",
    "print(user_account)\n",
    "type(user_account)\n",
    "print(user_account['user_name'])"
   ]
  },
  {
   "cell_type": "code",
   "execution_count": 11,
   "metadata": {},
   "outputs": [
    {
     "name": "stdout",
     "output_type": "stream",
     "text": [
      "{'color': 'green', 'points': 5}\n",
      "{'color': 'green', 'points': 5, 'x_point': 0, 'y_point': 10}\n"
     ]
    }
   ],
   "source": [
    "#enhancement of the codes....position of the alien???\n",
    "#how to add new key-value pairs to dictionary.\n",
    "print(alien)\n",
    "alien['x_point']=0\n",
    "alien['y_point']=10\n",
    "print(alien)"
   ]
  },
  {
   "cell_type": "code",
   "execution_count": 12,
   "metadata": {},
   "outputs": [
    {
     "name": "stdout",
     "output_type": "stream",
     "text": [
      "{'color': 'Red', 'points': 5, 'x_point': 0, 'y_point': 10}\n"
     ]
    }
   ],
   "source": [
    "#Requirement: How to modify a value in the dictionary:\n",
    "alien['color']='Red'\n",
    "print(alien)"
   ]
  },
  {
   "cell_type": "code",
   "execution_count": null,
   "metadata": {},
   "outputs": [],
   "source": []
  }
 ],
 "metadata": {
  "kernelspec": {
   "display_name": "Python 3",
   "language": "python",
   "name": "python3"
  },
  "language_info": {
   "codemirror_mode": {
    "name": "ipython",
    "version": 3
   },
   "file_extension": ".py",
   "mimetype": "text/x-python",
   "name": "python",
   "nbconvert_exporter": "python",
   "pygments_lexer": "ipython3",
   "version": "3.7.6"
  }
 },
 "nbformat": 4,
 "nbformat_minor": 4
}
