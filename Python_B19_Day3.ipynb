{
 "cells": [
  {
   "cell_type": "code",
   "execution_count": null,
   "metadata": {},
   "outputs": [],
   "source": [
    "#Rules for declaring the Variables\n",
    "#--------------no blank spaces in variable name\n",
    "#--------------It shouldnt start with a number\n",
    "#--------------no special character in the variable name\n",
    "#shift+Enter for execution of command"
   ]
  },
  {
   "cell_type": "code",
   "execution_count": 13,
   "metadata": {},
   "outputs": [
    {
     "ename": "SyntaxError",
     "evalue": "invalid syntax (<ipython-input-13-5c6492847518>, line 2)",
     "output_type": "error",
     "traceback": [
      "\u001b[1;36m  File \u001b[1;32m\"<ipython-input-13-5c6492847518>\"\u001b[1;36m, line \u001b[1;32m2\u001b[0m\n\u001b[1;33m    na me='Sridevi'\u001b[0m\n\u001b[1;37m        ^\u001b[0m\n\u001b[1;31mSyntaxError\u001b[0m\u001b[1;31m:\u001b[0m invalid syntax\n"
     ]
    }
   ],
   "source": [
    "#incorrect variable - examples:\n",
    "na me='Sridevi'\n",
    "print(na me)\n",
    "5name='Sridevi'\n",
    "print(5name)\n",
    "$name='Sridevi'\n",
    "print($name)"
   ]
  },
  {
   "cell_type": "code",
   "execution_count": 12,
   "metadata": {},
   "outputs": [
    {
     "name": "stdout",
     "output_type": "stream",
     "text": [
      "Sridevi\n"
     ]
    }
   ],
   "source": [
    "#correct variable - examples\n",
    "name='Sridevi'\n",
    "print(name)"
   ]
  },
  {
   "cell_type": "code",
   "execution_count": null,
   "metadata": {},
   "outputs": [],
   "source": [
    "#Data types\n",
    "#----String\n",
    "#----List\n",
    "#----tuple\n",
    "#----Dictionary\n",
    "#------Classification of Data types\n",
    "#---------Immutable Datatype (we can't modify, alter or re-assign the data)\n",
    "#---------mutable Datatype (we can modify, alter & re-assign the data)"
   ]
  },
  {
   "cell_type": "code",
   "execution_count": null,
   "metadata": {},
   "outputs": [],
   "source": [
    "#Introduction to String data type:\n",
    "#Def:----- A String is nothing but a series of characters.\n",
    "     #---A String is classified as a mutable data type.\n",
    "     #---HOw to define a String -------?\n",
    "     #---Ans------->We can able to define a String by useing the following ways:\n",
    "     #---1.Single quotes\n",
    "     #---2.Double quotes\n",
    "     #---3.Triple quotes."
   ]
  },
  {
   "cell_type": "code",
   "execution_count": 16,
   "metadata": {},
   "outputs": [
    {
     "name": "stdout",
     "output_type": "stream",
     "text": [
      "Sridevi\n",
      "Radha\n",
      "Mahesh\n"
     ]
    }
   ],
   "source": [
    "name1 = 'Sridevi'\n",
    "print(name1)\n",
    "name2 = \"Radha\"\n",
    "print(name2)\n",
    "name3 = '''Mahesh'''\n",
    "print(name3)"
   ]
  },
  {
   "cell_type": "code",
   "execution_count": null,
   "metadata": {},
   "outputs": [],
   "source": [
    "#Introduction to String methods:----->built-in method\n",
    "#STR is a string\n",
    "#print(name.title())\n",
    "#Print(name.upper())\n",
    "#Print(name.lower())\n",
    "#understanding concept of f Strings: ---to create a place holder\n",
    "#first name='Sandeep'\n",
    "#last name'gopal'\n",
    "#full_name=f\"{first name}{last name}\"\n",
    "#print(full_name)"
   ]
  },
  {
   "cell_type": "code",
   "execution_count": 28,
   "metadata": {},
   "outputs": [
    {
     "name": "stdout",
     "output_type": "stream",
     "text": [
      "Sandeep Gopal\n",
      "SANDEEP GOPAL\n",
      "sandeep gopal\n",
      "Sandeep Gopal\n"
     ]
    }
   ],
   "source": [
    "name=\"Sandeep Gopal\"\n",
    "print(name.title())\n",
    "print(name.upper())\n",
    "print(name.lower())\n",
    "firstname = \"Sandeep\"\n",
    "lastname = \"Gopal\"\n",
    "full_name=f\"{firstname} {lastname}\"\n",
    "print(full_name)"
   ]
  },
  {
   "cell_type": "code",
   "execution_count": null,
   "metadata": {},
   "outputs": [],
   "source": []
  }
 ],
 "metadata": {
  "kernelspec": {
   "display_name": "Python 3",
   "language": "python",
   "name": "python3"
  },
  "language_info": {
   "codemirror_mode": {
    "name": "ipython",
    "version": 3
   },
   "file_extension": ".py",
   "mimetype": "text/x-python",
   "name": "python",
   "nbconvert_exporter": "python",
   "pygments_lexer": "ipython3",
   "version": "3.7.6"
  }
 },
 "nbformat": 4,
 "nbformat_minor": 4
}
