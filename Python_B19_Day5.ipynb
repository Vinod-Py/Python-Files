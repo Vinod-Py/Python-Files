{
 "cells": [
  {
   "cell_type": "code",
   "execution_count": null,
   "metadata": {},
   "outputs": [],
   "source": [
    "#Introduction to list data types in Python:\n",
    "#Definition - List is collection of items in a particular Order.\n",
    "#Classification of list is Mutable Datatype*** (which can be altered, modified or re-assigned after declaration)\n",
    "#List can be defined by using a square brackets []"
   ]
  },
  {
   "cell_type": "code",
   "execution_count": 1,
   "metadata": {},
   "outputs": [
    {
     "name": "stdout",
     "output_type": "stream",
     "text": [
      "['a', 'b', 'c', 'd', 'e', 'f', 'g']\n"
     ]
    }
   ],
   "source": [
    "#Example for list datatypes\n",
    "Alphabets=['a','b','c','d','e','f','g']\n",
    "print(Alphabets)"
   ]
  },
  {
   "cell_type": "code",
   "execution_count": 2,
   "metadata": {},
   "outputs": [
    {
     "data": {
      "text/plain": [
       "list"
      ]
     },
     "execution_count": 2,
     "metadata": {},
     "output_type": "execute_result"
    }
   ],
   "source": [
    "type(Alphabets)"
   ]
  },
  {
   "cell_type": "code",
   "execution_count": 4,
   "metadata": {},
   "outputs": [
    {
     "name": "stdout",
     "output_type": "stream",
     "text": [
      "d\n"
     ]
    }
   ],
   "source": [
    "#Introduction to concept of indexing, Indexig starts from 0,1,2,3,4,5....\n",
    "#Req: How to access elements from the list. Access d in the output (by using the concept of indexing)\n",
    "print(Alphabets[3])"
   ]
  },
  {
   "cell_type": "code",
   "execution_count": null,
   "metadata": {},
   "outputs": [],
   "source": [
    "#Req:How to re-assign,Modify/remove the elements from the list\n",
    "#1. Re-assignment\n",
    "#2.Altering/Modify, adding new element\n",
    "#3.Removing or deleting a element"
   ]
  },
  {
   "cell_type": "code",
   "execution_count": 8,
   "metadata": {},
   "outputs": [
    {
     "name": "stdout",
     "output_type": "stream",
     "text": [
      "['a', 'b', 'z', 'd', 'e', 'f', 'g']\n"
     ]
    }
   ],
   "source": [
    "#1 re-assign c to z \n",
    "Alphabets[2]='z'\n",
    "print(Alphabets)"
   ]
  },
  {
   "cell_type": "code",
   "execution_count": 12,
   "metadata": {},
   "outputs": [
    {
     "name": "stdout",
     "output_type": "stream",
     "text": [
      "['a', 'b', 'z', 'd', 'e', 'f', 'g', 'h', 'h']\n"
     ]
    }
   ],
   "source": [
    "# alter/modify/append h to the list \n",
    "Alphabets.append('h')\n",
    "print(Alphabets)"
   ]
  },
  {
   "cell_type": "code",
   "execution_count": 13,
   "metadata": {},
   "outputs": [
    {
     "name": "stdout",
     "output_type": "stream",
     "text": [
      "['a', 'b', 'c', 'z', 'd', 'e', 'f', 'g', 'h', 'h']\n"
     ]
    }
   ],
   "source": [
    "# Insert c at the 3rd position\n",
    "Alphabets.insert(2,'c')\n",
    "print(Alphabets)"
   ]
  },
  {
   "cell_type": "code",
   "execution_count": 18,
   "metadata": {},
   "outputs": [
    {
     "name": "stdout",
     "output_type": "stream",
     "text": [
      "['a', 'b', 'c', 'f', 'g', 'h', 'h']\n"
     ]
    }
   ],
   "source": [
    "# delete alphabet z from the list\n",
    "del(Alphabets[3])\n",
    "del(Alphabets[3])\n",
    "del(Alphabets[3])\n",
    "print(Alphabets)"
   ]
  },
  {
   "cell_type": "code",
   "execution_count": 19,
   "metadata": {},
   "outputs": [
    {
     "name": "stdout",
     "output_type": "stream",
     "text": [
      "['a', 'b', 'c', 'd', 'e', 'f', 'g', 'h', 'h']\n"
     ]
    }
   ],
   "source": [
    "# Insert \n",
    "Alphabets.insert(3,'d')\n",
    "Alphabets.insert(4,'e')\n",
    "print(Alphabets)"
   ]
  },
  {
   "cell_type": "code",
   "execution_count": 21,
   "metadata": {},
   "outputs": [
    {
     "name": "stdout",
     "output_type": "stream",
     "text": [
      "['a', 'b', 'c', 'd', 'e', 'f', 'g', 'h']\n"
     ]
    }
   ],
   "source": [
    "del(Alphabets[8])\n",
    "print(Alphabets)"
   ]
  },
  {
   "cell_type": "code",
   "execution_count": null,
   "metadata": {},
   "outputs": [],
   "source": []
  }
 ],
 "metadata": {
  "kernelspec": {
   "display_name": "Python 3",
   "language": "python",
   "name": "python3"
  },
  "language_info": {
   "codemirror_mode": {
    "name": "ipython",
    "version": 3
   },
   "file_extension": ".py",
   "mimetype": "text/x-python",
   "name": "python",
   "nbconvert_exporter": "python",
   "pygments_lexer": "ipython3",
   "version": "3.7.6"
  }
 },
 "nbformat": 4,
 "nbformat_minor": 4
}
