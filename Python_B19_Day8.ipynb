{
 "cells": [
  {
   "cell_type": "code",
   "execution_count": 22,
   "metadata": {},
   "outputs": [
    {
     "name": "stdout",
     "output_type": "stream",
     "text": [
      "['sai', 'venkat', 'subash', 'pavan', 'sandeep', 'prem']\n"
     ]
    }
   ],
   "source": [
    "#slicing of list:\n",
    "my_students=['sai','venkat','subash','pavan','sandeep','prem']\n",
    "print(my_students)   "
   ]
  },
  {
   "cell_type": "code",
   "execution_count": 23,
   "metadata": {},
   "outputs": [
    {
     "name": "stdout",
     "output_type": "stream",
     "text": [
      "['sai', 'venkat']\n"
     ]
    }
   ],
   "source": [
    "#last value is always exclusive\n",
    "#[startpoint:endpoint:stepcount]\n",
    "#req:I want to split my student in to seperate groups of 2 each---\n",
    "#understandig the general syntax of a slice:\n",
    "#req:----->sai and venkat\n",
    "print(my_students[0:2])"
   ]
  },
  {
   "cell_type": "code",
   "execution_count": 24,
   "metadata": {},
   "outputs": [
    {
     "name": "stdout",
     "output_type": "stream",
     "text": [
      "['subash', 'pavan']\n"
     ]
    }
   ],
   "source": [
    "#req:subash and pavan\n",
    "print(my_students[2:4])"
   ]
  },
  {
   "cell_type": "code",
   "execution_count": 25,
   "metadata": {},
   "outputs": [
    {
     "name": "stdout",
     "output_type": "stream",
     "text": [
      "['sandeep', 'prem']\n"
     ]
    }
   ],
   "source": [
    "print(my_students[4:6])"
   ]
  },
  {
   "cell_type": "code",
   "execution_count": 26,
   "metadata": {},
   "outputs": [
    {
     "name": "stdout",
     "output_type": "stream",
     "text": [
      "['sai', 'venkat', 'subash', 'pavan', 'sandeep', 'prem']\n"
     ]
    }
   ],
   "source": [
    "#understanding the concept of -ve indexing :-1,-2,-3.......\n",
    "print(my_students)"
   ]
  },
  {
   "cell_type": "code",
   "execution_count": 27,
   "metadata": {},
   "outputs": [
    {
     "name": "stdout",
     "output_type": "stream",
     "text": [
      "prem\n"
     ]
    }
   ],
   "source": [
    "print(my_students[-1])"
   ]
  },
  {
   "cell_type": "code",
   "execution_count": 28,
   "metadata": {},
   "outputs": [
    {
     "name": "stdout",
     "output_type": "stream",
     "text": [
      "sandeep\n"
     ]
    }
   ],
   "source": [
    "print(my_students[-2])"
   ]
  },
  {
   "cell_type": "code",
   "execution_count": 29,
   "metadata": {},
   "outputs": [
    {
     "name": "stdout",
     "output_type": "stream",
     "text": [
      "['prem', 'sandeep', 'pavan', 'subash', 'venkat', 'sai']\n"
     ]
    }
   ],
   "source": [
    "#how do you reverse a list by using the cocept of indexig...\n",
    "print(my_students[::-1])"
   ]
  },
  {
   "cell_type": "code",
   "execution_count": 32,
   "metadata": {},
   "outputs": [
    {
     "name": "stdout",
     "output_type": "stream",
     "text": [
      "(200, 50)\n"
     ]
    },
    {
     "data": {
      "text/plain": [
       "tuple"
      ]
     },
     "execution_count": 32,
     "metadata": {},
     "output_type": "execute_result"
    }
   ],
   "source": [
    "#introduction to tuple datatype:\n",
    "#def:A immutable list is called a tuple.\n",
    "#how to define a tuple ......>()\n",
    "Dimensions=(200,50)\n",
    "print(Dimensions)\n",
    "type(Dimensions)"
   ]
  },
  {
   "cell_type": "code",
   "execution_count": 33,
   "metadata": {},
   "outputs": [
    {
     "name": "stdout",
     "output_type": "stream",
     "text": [
      "(250, 50)\n"
     ]
    }
   ],
   "source": [
    "#req:200.....>250\n",
    "Dimensions=(250,50)\n",
    "print(Dimensions)"
   ]
  },
  {
   "cell_type": "code",
   "execution_count": null,
   "metadata": {},
   "outputs": [],
   "source": []
  }
 ],
 "metadata": {
  "kernelspec": {
   "display_name": "Python 3",
   "language": "python",
   "name": "python3"
  },
  "language_info": {
   "codemirror_mode": {
    "name": "ipython",
    "version": 3
   },
   "file_extension": ".py",
   "mimetype": "text/x-python",
   "name": "python",
   "nbconvert_exporter": "python",
   "pygments_lexer": "ipython3",
   "version": "3.7.6"
  }
 },
 "nbformat": 4,
 "nbformat_minor": 4
}
