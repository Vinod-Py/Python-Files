{
 "cells": [
  {
   "cell_type": "code",
   "execution_count": 5,
   "metadata": {},
   "outputs": [
    {
     "name": "stdout",
     "output_type": "stream",
     "text": [
      "Python\n",
      "\tPython\n",
      "\n",
      "Python\n",
      "Software Languages:\n",
      "\tPython\n",
      "\tC\n",
      "\tC++\n",
      "\tJava\n",
      "\tRuby\n"
     ]
    }
   ],
   "source": [
    "#Adding white spaces to strings by tab & new delimeter\n",
    "# \\t --- for tab, \\n for next line\n",
    "print('Python')\n",
    "print('\\tPython')\n",
    "print('\\nPython')\n",
    "#Enhancement of the code:\n",
    "print('Software Languages:\\n\\tPython\\n\\tC\\n\\tC++\\n\\tJava\\n\\tRuby')"
   ]
  },
  {
   "cell_type": "code",
   "execution_count": 38,
   "metadata": {
    "scrolled": true
   },
   "outputs": [
    {
     "name": "stdout",
     "output_type": "stream",
     "text": [
      "Python        \n",
      "        Python\n",
      "    Python    \n",
      "Python\n",
      "Python\n",
      "Python\n"
     ]
    },
    {
     "data": {
      "text/plain": [
       "str"
      ]
     },
     "execution_count": 38,
     "metadata": {},
     "output_type": "execute_result"
    }
   ],
   "source": [
    "#Removing or stripping of White Spaces\n",
    "fav_lang1='Python        '\n",
    "fav_lang2='        Python'\n",
    "fav_lang3='    Python    '\n",
    "print(fav_lang1)\n",
    "print(fav_lang2)\n",
    "print(fav_lang3)\n",
    "x=fav_lang1.rstrip()\n",
    "y=fav_lang2.lstrip()\n",
    "z=fav_lang3.strip()\n",
    "print(x)\n",
    "print(y)\n",
    "print(z)\n",
    "type(z)"
   ]
  },
  {
   "cell_type": "code",
   "execution_count": 34,
   "metadata": {},
   "outputs": [
    {
     "data": {
      "text/plain": [
       "125"
      ]
     },
     "execution_count": 34,
     "metadata": {},
     "output_type": "execute_result"
    }
   ],
   "source": [
    "#Introduction to Integer datatype:\n",
    "#Integers--->int\n",
    "2+3\n",
    "3-2\n",
    "3*2\n",
    "3/2\n",
    "#Req:find me the square of 5\n",
    "5**2\n",
    "#Req:find me the cube of a 5\n",
    "5**3"
   ]
  },
  {
   "cell_type": "markdown",
   "metadata": {},
   "source": [
    "#Understanding the Float data Type:\n",
    "#If decimal point in the number called in the Python is Float"
   ]
  },
  {
   "cell_type": "code",
   "execution_count": 37,
   "metadata": {},
   "outputs": [
    {
     "name": "stdout",
     "output_type": "stream",
     "text": [
      "1.7\n"
     ]
    },
    {
     "data": {
      "text/plain": [
       "float"
      ]
     },
     "execution_count": 37,
     "metadata": {},
     "output_type": "execute_result"
    }
   ],
   "source": [
    "0.8 + 0.1\n",
    "x=1.5\n",
    "y=0.2\n",
    "z=x+y\n",
    "print(z)\n",
    "type(z)"
   ]
  },
  {
   "cell_type": "code",
   "execution_count": null,
   "metadata": {},
   "outputs": [],
   "source": []
  }
 ],
 "metadata": {
  "kernelspec": {
   "display_name": "Python 3",
   "language": "python",
   "name": "python3"
  },
  "language_info": {
   "codemirror_mode": {
    "name": "ipython",
    "version": 3
   },
   "file_extension": ".py",
   "mimetype": "text/x-python",
   "name": "python",
   "nbconvert_exporter": "python",
   "pygments_lexer": "ipython3",
   "version": "3.7.6"
  }
 },
 "nbformat": 4,
 "nbformat_minor": 4
}
